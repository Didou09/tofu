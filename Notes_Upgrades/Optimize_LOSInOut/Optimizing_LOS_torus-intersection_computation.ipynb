{
 "cells": [
  {
   "cell_type": "markdown",
   "metadata": {},
   "source": [
    "# Introduction"
   ]
  },
  {
   "cell_type": "markdown",
   "metadata": {},
   "source": [
    "## Short description of the problem"
   ]
  },
  {
   "cell_type": "markdown",
   "metadata": {},
   "source": [
    "We have a torus of arbitrary (non-convex polygonal) cross-section.\n",
    "We consider a semi-line (called LOS, for Line of Sight from now on) define by a starting point and a normalized vector.\n",
    "We want to compute the intersections of that semi-line with the torus.\n",
    "\n",
    "In particular, we want the first entry point inside the torus (PIn), the first exit point (POut), and for the exit point, we also want the index of the polygon (cross-section) segment on which it stands and the normalized vector to that segment at POut.\n",
    "When the starting point already lies inside the torus, there is no PIn.\n",
    "\n",
    "That computation should be done for a large number of LOS ($10^{5-6}$), and for cross-section polygons comprising 50-500 segments."
   ]
  },
  {
   "cell_type": "markdown",
   "metadata": {},
   "source": [
    "## Mathematical solutions and algorithm"
   ]
  },
  {
   "cell_type": "markdown",
   "metadata": {},
   "source": [
    "The mathematical formulation can be found in , as well as all necessary derivations.\n",
    "Here is a summary of the subsequent algorithm:\n",
    "\n",
    "If $(O,\\underline{e}_R,\\underline{e}_{\\phi},\\underline{e}_Z)$ is a direct orthonormal cylindrical referential, to which the associated cartesian referential is $(O,\\underline{e}_X,\\underline{e}_Y,\\underline{e}_Z)$, the inputs of the function are:\n",
    "\n",
    "* Ds (3,Nl) np.ndarray of floats : an array containing the 3D (X,Y,Z) coordinates of the Nl starting points\n",
    "* us (3,Nl) np.ndarray of floats : an array containing the 3D (X,Y,Z) coordinates of the Nl normalized vectors\n",
    "* VPoly (2,Ns+1) np.ndarray of floats : an array containing the 2D (R,Z) coordinates of the Ns+1 points defining the Ns segments defining the cross-section polygon of the torus vessel\n",
    "* VIn (2,Ns) np.ndarray of floats : an array containing the 2D (R,Z) coordinates of the Ns vectors perpendicular to the Ns segments and oriented inwards\n",
    "\n",
    "For one LOS and one segment, let's find the parameter k such that $\\underline{DM}=k\\underline{u}$ where M is any intersection between the semi-line and the cone defined by the considered segment. If there are several intersections, their k values will be used to determine which ones are first along the line. To determine if an intersection is a PIn (entry) or a POut (exit), we compute the sign of the scalar product between $\\underline{u}$ and the local normalized vector perpendicular to the segment and oriented inwards (entry=positive).\n",
    "\n",
    "Then, introducing (see for details):\n",
    "* $u_{ii,//}\\cdot D_{ii,//} = us[0,ii]*Ds[0,ii]+us[1,ii]*Ds[1,ii]$\n",
    "* $u_{ii,//}^2 = us[0,ii]^2+us[1,ii]^2$\n",
    "* $D_{ii,//}^2 = Ds[0,ii]^2+Ds[1,ii]^2$\n",
    "\n",
    "Then, the basic algorithm is, for each LOS defined by index ii (Ds[:,ii],us[:,ii]) and for any segment of index jj (VPoly[:,jj:jj+2]) is:\n",
    "\n",
    "* if us[2,ii]==0, then, introducing:\n",
    "   * $q = \\frac{Ds[2,ii]-VPoly[1,jj]}{VPoly[1,jj+1]-VPoly[1,jj]}$ \n",
    "   * $C = q^2(VPoly[0,jj+1]-VPoly[0,jj])^2 + 2qVPoly[0,jj](VPoly[0,jj+1]-VPoly[0,jj]) + VPoly[0,jj]$\n",
    "\n",
    "   There are solution only if:\n",
    "      * VPoly[1,jj+1] != VPoly[1,jj]\n",
    "      * $q \\in [0;1[$\n",
    "      * $\\delta = (u_{ii,//}\\cdot D_{ii,//})^2 - u_{ii,//}^2(D_{ii,//}^2-C) > 0$\n",
    "   \n",
    "   And the solutions are $k_{1,2} = \\frac{-u_{ii,//}\\cdot D_{ii,//} \\pm \\sqrt{\\delta}}{u_{ii,//}^2}$ (valid only if $\\geq0$, because semi-line)\n",
    "\n",
    "* if us[2,ii]!=0, then, introducing:\n",
    "   * $A = (VPoly[0,jj+1]-VPoly[0,jj])^2 - \\frac{(VPoly[1,jj+1]-VPoly[1,jj])^2}{us[2,ii]^2}u_{ii,//}^2$\n",
    "   * $B = VPoly[0,jj](VPoly[0,jj+1]-VPoly[0,jj]) + \\frac{VPoly[1,jj+1]-VPoly[1,jj]}{us[2,ii]}\\frac{Ds[2,ii]-VPoly[1,jj]}{us[2,ii]}u_{ii,//}^2 - \\frac{VPoly[1,jj+1]-VPoly[1,jj]}{us[2,ii]}u_{ii,//}\\cdot D_{ii,//}$\n",
    "   * $C = -\\left(\\frac{Ds[2,ii]-VPoly[1,jj]}{us[2,ii]}\\right)^2u_{ii,//}^2 + 2\\frac{Ds[2,ii]-VPoly[1,jj]}{us[2,ii]}u_{ii,//}\\cdot D_{ii,//} - D_{ii,//}^2 + VPoly[0,jj]^2$\n",
    "   \n",
    "   There are solution only if:\n",
    "      * A = 0 and B != 0:\n",
    "           * $q = -\\frac{C}{2B}$ must be $\\in [0;1[$\n",
    "           * $k = q\\frac{VPoly[1,jj+1]-VPoly[1,jj]}{us[2,ii]} - \\frac{Ds[1,ii]-VPoly[1,jj]}{us[2,ii]}$ must be $\\geq0$\n",
    "      * A != 0:\n",
    "           * $B^2$ must be > $AC$\n",
    "           * $q_{1,2} = \\frac{-B \\pm \\sqrt{B^2-AC}}{A}$ must be $\\in [0;1[$\n",
    "           * $k_{1,2} = q_{1,2}\\frac{VPoly[1,jj+1]-VPoly[1,jj]}{us[2,ii]} - \\frac{Ds[1,ii]-VPoly[1,jj]}{us[2,ii]}$ must be $\\geq0$\n",
    "\n"
   ]
  },
  {
   "cell_type": "markdown",
   "metadata": {},
   "source": [
    "### Safeguard"
   ]
  },
  {
   "cell_type": "markdown",
   "metadata": {},
   "source": [
    "For solutions to be valid, they have to:\n",
    "* lie on a given segment (cf.: $\\in [0;1[$)\n",
    "* lie on the semi-line (cf. $k\\geq0$)\n",
    "* In addition, they have to be located on the good side of the torus (no crossing through the center)\n",
    "\n",
    "The first two conditions are met by the previous algorithm, the last one is enforced (on demand according to keyword argument Forbid) by excluding all solution in an angular sector opposite the sector the semi-line starting point.\n",
    "\n",
    "In the following, in additon to the (Ds,us,VPoly,VIn) positional arguments, all functions also take a set of keyword arguments specifying in particular:\n",
    "* Forbid=True (default)\n",
    "* Margins and numeric tolerance values"
   ]
  },
  {
   "cell_type": "markdown",
   "metadata": {},
   "source": [
    "# Function versions"
   ]
  },
  {
   "cell_type": "code",
   "execution_count": 280,
   "metadata": {
    "collapsed": true
   },
   "outputs": [],
   "source": [
    "import numpy as np"
   ]
  },
  {
   "cell_type": "markdown",
   "metadata": {},
   "source": [
    "## Naive Python version with for loop"
   ]
  },
  {
   "cell_type": "code",
   "execution_count": 331,
   "metadata": {
    "collapsed": false
   },
   "outputs": [],
   "source": [
    "def Calc_LOS_PInOut_python(Ds, us, VPoly, vIn,\n",
    "                           Forbid=True, RMin=None, EpsUz=1.e-9, EpsVz=1.e-9, EpsA=1.e-9, EpsB=1.e-9):\n",
    "    \n",
    "    ################\n",
    "    # Prepare input\n",
    "    RMin = 0.95*min(np.min(VPoly[0,:]),np.min(np.hypot(Ds[0,:],Ds[1,:]))) if RMin is None else RMin\n",
    "    \n",
    "    ################\n",
    "    # Prepare output\n",
    "    Nl, Ns = Ds.shape[1], vIn.shape[1]\n",
    "    SIn, SOut = np.nan*np.ones((3,Nl),dtype=float), np.nan*np.ones((3,Nl),dtype=float)\n",
    "    VPerp, indOut = np.nan*np.ones((3,Nl),dtype=float), np.nan*np.ones((Nl,),dtype=int)\n",
    "    \n",
    "    ################\n",
    "    # Compute\n",
    "    for ii in range(0,Nl):\n",
    "        upscaDp = us[0,ii]*Ds[0,ii] + us[1,ii]*Ds[1,ii]\n",
    "        upar2 = us[0,ii]**2 + us[1,ii]**2\n",
    "        Dpar2 = Ds[0,ii]**2 + Ds[1,ii]**2\n",
    "        # Prepare in case Forbid is True\n",
    "        if Forbid:\n",
    "            # Compute coordinates of the 2 points where the tangents touch the inner circle\n",
    "            R2 = Ds[0,ii]**2 + Ds[1,ii]**2\n",
    "            L = np.sqrt(R2-RMin**2)\n",
    "            S1X = (RMin**2*Ds[0,ii]+RMin*Ds[1,ii]*L)/R2\n",
    "            S1Y = (RMin**2*Ds[1,ii]-RMin*Ds[0,ii]*L)/R2\n",
    "            S2X = (RMin**2*Ds[0,ii]-RMin*Ds[1,ii]*L)/R2\n",
    "            S2Y = (RMin**2*Ds[1,ii]+RMin*Ds[0,ii]*L)/R2\n",
    "        \n",
    "        # Compute all solutions\n",
    "        # Set tolerance value for us[2,ii]\n",
    "        # EpsUz is the tolerated DZ across 50m (max Tokamak size)\n",
    "        Crit = EpsUz*np.sqrt(upar2)/50.\n",
    "        kout, kin, indout = np.inf, np.inf, None\n",
    "        # Case with horizontal semi-line\n",
    "        if np.abs(us[2,ii])<Crit:\n",
    "            for jj in range(0,Ns):\n",
    "                # Solutions exist only in the case with non-horizontal segment (i.e.: cone, not plane)\n",
    "                if np.abs(vIn[1,jj])>EpsVz:\n",
    "                    q = (Ds[2,ii]-VPoly[1,jj])/(VPoly[1,jj+1]-VPoly[1,jj])\n",
    "                    # The intersection must stand on the segment \n",
    "                    if q>=0 and q<1:\n",
    "                        C = q**2*(VPoly[0,jj+1]-VPoly[0,jj])**2 + 2.*q*VPoly[0,jj]*(VPoly[0,jj+1]-VPoly[0,jj]) + VPoly[0,jj]**2\n",
    "                        delta = upscaDp**2 - upar2*(Dpar2-C)\n",
    "                        if delta>0.:\n",
    "                            sqd = np.sqrt(delta)\n",
    "                            # The intersection must be on the semi-line (i.e.: k>=0)\n",
    "                            # First solution\n",
    "                            if -upscaDp - sqd >=0:\n",
    "                                k = (-upscaDp - sqd)/upar2\n",
    "                                sol = Ds[:,ii] + k*us[:,ii]\n",
    "                                if Forbid:\n",
    "                                    sca0 = (sol[0]-S1X)*Ds[0,ii] + (sol[1]-S1Y)*Ds[1,ii]\n",
    "                                    sca1 = (sol[0]-S1X)*S1X + (sol[1]-S1Y)*S1Y\n",
    "                                    sca2 = (sol[0]-S2X)*S2X + (sol[1]-S2Y)*S2Y\n",
    "                                if not Forbid or (Forbid and not (sca0<0 and sca1<0 and sca2<0)):\n",
    "                                    # Get the normalized perpendicular vector at intersection\n",
    "                                    phi = np.arctan2(sol[1],sol[0])\n",
    "                                    # Get the scalar product to determine entry or exit point\n",
    "                                    sca = np.cos(phi)*vIn[0,jj]*us[0,ii] + np.sin(phi)*vIn[0,jj]*us[1,ii] + vIn[1,jj]*us[2,ii]\n",
    "                                    if sca<=0 and k<kout:\n",
    "                                        kout = k\n",
    "                                        indout = jj\n",
    "                                        #print 1, k\n",
    "                                    elif sca>=0 and k<min(kin,kout):\n",
    "                                        kin = k\n",
    "                                        #print 2, k\n",
    "                                    \n",
    "                            # Second solution\n",
    "                            if -upscaDp + sqd >=0:\n",
    "                                k = (-upscaDp + sqd)/upar2\n",
    "                                sol = Ds[:,ii] + k*us[:,ii]\n",
    "                                if Forbid:\n",
    "                                    sca0 = (sol[0]-S1X)*Ds[0,ii] + (sol[1]-S1Y)*Ds[1,ii]\n",
    "                                    sca1 = (sol[0]-S1X)*S1X + (sol[1]-S1Y)*S1Y\n",
    "                                    sca2 = (sol[0]-S2X)*S2X + (sol[1]-S2Y)*S2Y\n",
    "                                if not Forbid or (Forbid and not (sca0<0 and sca1<0 and sca2<0)):\n",
    "                                    # Get the normalized perpendicular vector at intersection\n",
    "                                    phi = np.arctan2(sol[1],sol[0])\n",
    "                                    # Get the scalar product to determine entry or exit point\n",
    "                                    sca = np.cos(phi)*vIn[0,jj]*us[0,ii] + np.sin(phi)*vIn[0,jj]*us[1,ii] + vIn[1,jj]*us[2,ii]\n",
    "                                    if sca<=0 and k<kout:\n",
    "                                        kout = k\n",
    "                                        indout = jj\n",
    "                                        #print 3, k\n",
    "                                    elif sca>=0 and k<min(kin,kout):\n",
    "                                        kin = k\n",
    "                                        #print 4, k\n",
    "                                        \n",
    "        # More general non-horizontal semi-line case\n",
    "        else:\n",
    "            for jj in range(Ns):\n",
    "                v0, v1 = VPoly[0,jj+1]-VPoly[0,jj], VPoly[1,jj+1]-VPoly[1,jj]\n",
    "                A = v0**2 - upar2*(v1/us[2,ii])**2\n",
    "                B = VPoly[0,jj]*v0 + v1*(Ds[2,ii]-VPoly[1,jj])*upar2/us[2,ii]**2 - upscaDp*v1/us[2,ii]\n",
    "                C = -upar2*(Ds[2,ii]-VPoly[1,jj])**2/us[2,ii]**2 + 2.*upscaDp*(Ds[2,ii]-VPoly[1,jj])/us[2,ii] - Dpar2 + VPoly[0,jj]**2              \n",
    "               \n",
    "                if np.abs(A)<EpsA and np.abs(B)>EpsB:\n",
    "                    q = -C/(2.*B)\n",
    "                    if q>=0. and q<1.:\n",
    "                        k = (q*v1 - (Ds[2,ii]-VPoly[2,jj]))/us[2,ii]\n",
    "                        if k>=0:\n",
    "                            sol = Ds[:,ii] + k*us[:,ii]\n",
    "                            if Forbid:\n",
    "                                sca0 = (sol[0]-S1X)*Ds[0,ii] + (sol[1]-S1Y)*Ds[1,ii]\n",
    "                                sca1 = (sol[0]-S1X)*S1X + (sol[1]-S1Y)*S1Y\n",
    "                                sca2 = (sol[0]-S2X)*S2X + (sol[1]-S2Y)*S2Y\n",
    "                                #print 1, k, kout, sca0, sca1, sca2\n",
    "                                if sca0<0 and sca1<0 and sca2<0:\n",
    "                                    continue\n",
    "                            # Get the normalized perpendicular vector at intersection\n",
    "                            phi = np.arctan2(sol[1],sol[0])\n",
    "                            # Get the scalar product to determine entry or exit point\n",
    "                            sca = np.cos(phi)*vIn[0,jj]*us[0,ii] + np.sin(phi)*vIn[0,jj]*us[1,ii] + vIn[1,jj]*us[2,ii]\n",
    "                            if sca<=0 and k<kout:\n",
    "                                kout = k\n",
    "                                indout = jj\n",
    "                                #print 5, k\n",
    "                            elif sca>=0 and k<min(kin,kout):\n",
    "                                kin = k\n",
    "                                #print 6, k\n",
    "                                \n",
    "                elif np.abs(A)>EpsA and B**2>A*C:\n",
    "                    sqd = np.sqrt(B**2-A*C)\n",
    "                    # First solution\n",
    "                    q = (-B + sqd)/A\n",
    "                    if q>=0. and q<1.:\n",
    "                        k = (q*v1 - (Ds[2,ii]-VPoly[1,jj]))/us[2,ii]\n",
    "                        if k>=0.:\n",
    "                            sol = Ds[:,ii] + k*us[:,ii]\n",
    "                            if Forbid:\n",
    "                                sca0 = (sol[0]-S1X)*Ds[0,ii] + (sol[1]-S1Y)*Ds[1,ii]\n",
    "                                sca1 = (sol[0]-S1X)*S1X + (sol[1]-S1Y)*S1Y\n",
    "                                sca2 = (sol[0]-S2X)*S2X + (sol[1]-S2Y)*S2Y\n",
    "                                #print 2, k, kout, sca0, sca1, sca2\n",
    "                            if not Forbid or (Forbid and not (sca0<0 and sca1<0 and sca2<0)):\n",
    "                                # Get the normalized perpendicular vector at intersection\n",
    "                                phi = np.arctan2(sol[1],sol[0])\n",
    "                                # Get the scalar product to determine entry or exit point\n",
    "                                sca = np.cos(phi)*vIn[0,jj]*us[0,ii] + np.sin(phi)*vIn[0,jj]*us[1,ii] + vIn[1,jj]*us[2,ii]\n",
    "                                if sca<=0 and k<kout:\n",
    "                                    kout = k\n",
    "                                    indout = jj\n",
    "                                    #print 7, k, q, A, B, C, sqd\n",
    "                                elif sca>=0 and k<min(kin,kout):\n",
    "                                    kin = k\n",
    "                                    #print 8, k, jj\n",
    "                            \n",
    "                    # Second solution\n",
    "                    q = (-B - sqd)/A\n",
    "                    if q>=0. and q<1.:\n",
    "                        k = (q*v1 - (Ds[2,ii]-VPoly[1,jj]))/us[2,ii]\n",
    "                        \n",
    "                        if k>=0.:\n",
    "                            sol = Ds[:,ii] + k*us[:,ii]\n",
    "                            if Forbid:\n",
    "                                sca0 = (sol[0]-S1X)*Ds[0,ii] + (sol[1]-S1Y)*Ds[1,ii]\n",
    "                                sca1 = (sol[0]-S1X)*S1X + (sol[1]-S1Y)*S1Y\n",
    "                                sca2 = (sol[0]-S2X)*S2X + (sol[1]-S2Y)*S2Y\n",
    "                                #print 3, k, kout, sca0, sca1, sca2\n",
    "                            if not Forbid or (Forbid and not (sca0<0 and sca1<0 and sca2<0)):\n",
    "                                # Get the normalized perpendicular vector at intersection\n",
    "                                phi = np.arctan2(sol[1],sol[0])\n",
    "                                # Get the scalar product to determine entry or exit point\n",
    "                                sca = np.cos(phi)*vIn[0,jj]*us[0,ii] + np.sin(phi)*vIn[0,jj]*us[1,ii] + vIn[1,jj]*us[2,ii]\n",
    "                                if sca<=0 and k<kout:\n",
    "                                    kout = k\n",
    "                                    indout = jj\n",
    "                                    #print 9, k, jj\n",
    "                                elif sca>=0 and k<min(kin,kout):\n",
    "                                    kin = k\n",
    "                                    #print 10, k, q, A, B, C, sqd, v0, v1, jj\n",
    "\n",
    "        if indout is not None:\n",
    "            indOut[ii] = indout\n",
    "            SOut[:,ii] = Ds[:,ii] + kout*us[:,ii]\n",
    "            phi = np.arctan2(SOut[1,ii],SOut[0,ii])\n",
    "            VPerp[:,ii] = np.cos(phi)*vIn[0,indout], np.sin(phi)*vIn[0,indout], vIn[1,indout]\n",
    "        if kin<kout:\n",
    "            SIn[:,ii] = Ds[:,ii] + kin*us[:,ii]\n",
    "    return SIn, SOut, VPerp, indOut\n"
   ]
  },
  {
   "cell_type": "markdown",
   "metadata": {},
   "source": [
    "## Numpy version"
   ]
  },
  {
   "cell_type": "code",
   "execution_count": 332,
   "metadata": {
    "collapsed": false
   },
   "outputs": [],
   "source": [
    "import numpy as np\n",
    "def Calc_LOS_PInOut_numpy1(Ds, us, VPoly, vIn,\n",
    "                          Forbid=True, RMin=None, EpsUz=1.e-9, EpsVz=1.e-9, EpsA=1.e-9, EpsB=1.e-9):\n",
    "\n",
    "    # Prepare inputs\n",
    "    RMin = 0.95*min(np.min(VPoly[0,:]),np.min(np.hypot(Ds[0,:],Ds[1,:]))) if RMin is None else RMin\n",
    "    \n",
    "    # Pre-define useful quantities\n",
    "    Cs = VPoly[:,:-1]\n",
    "    vs = VPoly[:,1:]-VPoly[:,:-1]\n",
    "    upscaDp = us[0,:]*Ds[0,:] + us[1,:]*Ds[1,:]\n",
    "    upar2 = us[0,:]**2 + us[1,:]**2\n",
    "    Dpar2 = Ds[0,:]**2 + Ds[1,:]**2\n",
    "    MaxErr = 50.\n",
    "    NL, NS = Ds.shape[1], vIn.shape[1]\n",
    "\n",
    "    Ds0, Ds1, Ds2 = np.tile(Ds[0,:],(NS,1)).T, np.tile(Ds[1,:],(NS,1)).T, np.tile(Ds[2,:],(NS,1)).T\n",
    "    us0, us1, us2 = np.tile(us[0,:],(NS,1)).T, np.tile(us[1,:],(NS,1)).T, np.tile(us[2,:],(NS,1)).T\n",
    "    Cs0, Cs1 = np.tile(Cs[0,:],(NL,1)), np.tile(Cs[1,:],(NL,1))\n",
    "    vs0, vs1 = np.tile(vs[0,:],(NL,1)), np.tile(vs[1,:],(NL,1))\n",
    "    upscaDpF = np.tile(upscaDp,(NS,1)).T\n",
    "    upar2F = np.tile(upar2,(NS,1)).T\n",
    "    Dpar2F = np.tile(Dpar2,(NS,1)).T\n",
    "\n",
    "    ########################\n",
    "    # Find all intersections\n",
    "    # 1st dim = LOS\n",
    "    # 2nd dim = VPoly\n",
    "    ########################\n",
    "\n",
    "    ###########################\n",
    "    # Start with horizontal LOS\n",
    "\n",
    "    # Prepare arrays\n",
    "    # q, sqd = np.nan*np.ones((NL,NS)), np.nan*np.ones((NL,NS))\n",
    "    sqd = np.nan*np.ones((NL,NS))   # Test\n",
    "    k0, k1 = np.nan*np.ones((NL,NS)), np.nan*np.ones((NL,NS))\n",
    "\n",
    "    Crit = EpsUz*np.sqrt(upar2F)/MaxErr\n",
    "    # Compute quasi-horizontal LOS\n",
    "    ind01 = np.abs(us2) < Crit      # Consider quasi-horizontal cases to avoid near-zero divisions otherwise, EpsUz is the tolerated DZ across 50m (max Tokamak size)\n",
    "    ind01[ind01] = np.abs(vs1[ind01])>EpsVz\n",
    "    q = (Ds2[ind01]-Cs1[ind01])/vs1[ind01]\n",
    "    ii = (q>=0) & (q<1)\n",
    "    ind01[ind01], q = ii, q[ii]\n",
    "    C = q**2*vs0[ind01]**2 + 2.*q*Cs0[ind01]*vs0[ind01] + Cs0[ind01]**2\n",
    "    delta = upscaDpF[ind01]**2 - upar2F[ind01]*(Dpar2F[ind01]-C)\n",
    "    ind01[ind01] = delta>0.\n",
    "    sqd[ind01] = np.sqrt(delta)\n",
    "    ind02 = np.copy(ind01)\n",
    "    ind01[ind01] = (-upscaDpF[ind01] - sqd[ind01]) >= 0.\n",
    "    ind02[ind02] = (-upscaDpF[ind02] + sqd[ind02]) >= 0.\n",
    "    k0[ind01] = (-upscaDpF[ind01] - sqd[ind01])/upar2F[ind01]\n",
    "    k1[ind02] = (-upscaDpF[ind02] + sqd[ind02])/upar2F[ind02]\n",
    "    #print 'A',k0[ind01], q, C, sqd[ind01]\n",
    "    #print 'A',k1[ind02], q\n",
    "    del q, C, delta, sqd\n",
    "    \n",
    "    # Prepare quantities for general cases\n",
    "    q, q1, q2 = np.nan*np.ones((NL,NS)), np.nan*np.ones((NL,NS)), np.nan*np.ones((NL,NS))\n",
    "    # Compute general cases\n",
    "    A = vs0**2 - upar2F*(vs1/us2)**2\n",
    "    B = Cs0*vs0 + vs1*(Ds2-Cs1)*upar2F/us2**2 - upscaDpF*vs1/us2\n",
    "    C = -upar2F*(Ds2-Cs1)**2/us2**2 + 2.*upscaDpF*(Ds2-Cs1)/us2 - Dpar2F + Cs0**2\n",
    "\n",
    "    ind1 = (np.abs(us2) > Crit) & (np.abs(A)<EpsA) & (np.abs(B)>EpsB)\n",
    "    q[ind1] = -C[ind1]/(2.*B[ind1])\n",
    "    ind1[ind1] = (q[ind1]>=0) & (q[ind1]<1)\n",
    "    kk = (q[ind1]*vs1[ind1] - (Ds2[ind1]-Cs1[ind1]))/us2[ind1]\n",
    "    ind1[ind1] = kk>=0.\n",
    "    k0[ind1] = kk[kk>=0.]\n",
    "    #print 'B',k0[ind1], q[ind1]\n",
    "    del q, kk, upscaDpF, upar2F, Dpar2F\n",
    "\n",
    "    ind21 = (np.abs(us2) > Crit) & (np.abs(A)>EpsA) & (B**2>A*C)\n",
    "    sqd = np.sqrt(B[ind21]**2-A[ind21]*C[ind21])\n",
    "    q1[ind21] = (-B[ind21] + sqd)/A[ind21]\n",
    "    q2[ind21] = (-B[ind21] - sqd)/A[ind21]\n",
    "    ind22 = np.copy(ind21)\n",
    "    ind21[ind21] = (q1[ind21]>=0) & (q1[ind21]<1.)\n",
    "    ind22[ind22] = (q2[ind22]>=0) & (q2[ind22]<1.)\n",
    "    kk0 = (q1[ind21]*vs1[ind21] - (Ds2[ind21]-Cs1[ind21]))/us2[ind21]\n",
    "    kk1 = (q2[ind22]*vs1[ind22] - (Ds2[ind22]-Cs1[ind22]))/us2[ind22]\n",
    "    ind21[ind21] = kk0>=0.\n",
    "    ind22[ind22] = kk1>=0.\n",
    "    k0[ind21] = kk0[kk0>=0.]\n",
    "    k1[ind22] = kk1[kk1>=0.]\n",
    "    #print 'C',k0[ind21], q1[ind21], A[ind21], B[ind21], C[ind21]\n",
    "    #print 'C',k1[ind22], q2[ind22], A[ind22], B[ind22], C[ind22]\n",
    "    del A, B, C, sqd, q1, q2, kk0, kk1, Cs0, Cs1, vs0, vs1\n",
    "\n",
    "    # Compute associated solutions\n",
    "    S00, S01, S02 = np.nan*np.ones((NL,NS)), np.nan*np.ones((NL,NS)), np.nan*np.ones((NL,NS))\n",
    "    S10, S11, S12 = np.nan*np.ones((NL,NS)), np.nan*np.ones((NL,NS)), np.nan*np.ones((NL,NS))\n",
    "    Ind1, Ind2 = [ind01,ind1,ind21], [ind02,ind22]\n",
    "    for ii in range(0,len(Ind1)):\n",
    "        S00[Ind1[ii]] = Ds0[Ind1[ii]] + k0[Ind1[ii]]*us0[Ind1[ii]]\n",
    "        S01[Ind1[ii]] = Ds1[Ind1[ii]] + k0[Ind1[ii]]*us1[Ind1[ii]]\n",
    "        S02[Ind1[ii]] = Ds2[Ind1[ii]] + k0[Ind1[ii]]*us2[Ind1[ii]]\n",
    "    for ii in range(0,len(Ind2)):\n",
    "        S10[Ind2[ii]] = Ds0[Ind2[ii]] + k1[Ind2[ii]]*us0[Ind2[ii]]\n",
    "        S11[Ind2[ii]] = Ds1[Ind2[ii]] + k1[Ind2[ii]]*us1[Ind2[ii]]\n",
    "        S12[Ind2[ii]] = Ds2[Ind2[ii]] + k1[Ind2[ii]]*us2[Ind2[ii]]\n",
    "    Ind0 = ind01 | ind1 | ind21\n",
    "    Ind1 = ind02 | ind22\n",
    "    del ind01, ind1, ind21, ind02, ind22\n",
    "\n",
    "\n",
    "    # Eliminate solution in forbidden area\n",
    "\n",
    "    RMin = 0.95*min(np.nanmin(VPoly[0,:]), np.nanmin(np.hypot(Ds[0,:],Ds[1,:]))) if RMin is None else RMin\n",
    "    RS0, RS1 = np.hypot(S00,S01), np.hypot(S10,S11)\n",
    "    iin0, iin1 = ~np.isnan(RS0), ~np.isnan(RS1)\n",
    "    RS0, RS1 = RS0[iin0], RS1[iin1]\n",
    "    assert np.all(RS0>RMin) and np.all(RS1>RMin) and np.all(RS0<1.1*np.nanmax(VPoly[0,:])) and np.all(RS1<1.1*np.nanmax(VPoly[0,:])), \"Some solutions are way too far/close !\"+str(RS0)+\" \"+str(RS1)+\"  \"+str(k0[iin0])+\"  \"+str(k1[iin1])\n",
    "    \n",
    "    if Forbid:\n",
    "        # This criterion is the same for both solution k0 and k1\n",
    "        Ind = Ind0 | Ind1\n",
    "        # Prepare useful quantities\n",
    "        R2, L = np.nan*np.ones((NL,NS)), np.nan*np.ones((NL,NS))\n",
    "        S1X, S1Y = np.nan*np.ones((NL,NS)), np.nan*np.ones((NL,NS))\n",
    "        S2X, S2Y = np.nan*np.ones((NL,NS)), np.nan*np.ones((NL,NS))\n",
    "        # Add a little bit of margin to the major radius, just in case\n",
    "        R2[Ind] = Ds0[Ind]**2+Ds1[Ind]**2\n",
    "        L[Ind] = np.sqrt(R2[Ind]-RMin**2)\n",
    "        # Compute coordinates of the 2 points where the tangents touch the inner circle\n",
    "        S1X[Ind] = (RMin**2*Ds0[Ind]+RMin*Ds1[Ind]*L[Ind])/R2[Ind]\n",
    "        S1Y[Ind] = (RMin**2*Ds1[Ind]-RMin*Ds0[Ind]*L[Ind])/R2[Ind]\n",
    "        S2X[Ind] = (RMin**2*Ds0[Ind]-RMin*Ds1[Ind]*L[Ind])/R2[Ind]\n",
    "        S2Y[Ind] = (RMin**2*Ds1[Ind]+RMin*Ds0[Ind]*L[Ind])/R2[Ind]\n",
    "        # Check solutiona are on the good side of the 3 planes\n",
    "        indout = (S00[Ind0]-S1X[Ind0])*Ds0[Ind0] + (S01[Ind0]-S1Y[Ind0])*Ds1[Ind0] < 0.\n",
    "        indout = indout & ((S00[Ind0]-S1X[Ind0])*S1X[Ind0] + (S01[Ind0]-S1Y[Ind0])*S1Y[Ind0] < 0.)\n",
    "        indout = indout & ((S00[Ind0]-S2X[Ind0])*S2X[Ind0] + (S01[Ind0]-S2Y[Ind0])*S2Y[Ind0] < 0.)\n",
    "        Ind0[Ind0] = ~indout\n",
    "        indout = (S10[Ind1]-S1X[Ind1])*Ds0[Ind1] + (S11[Ind1]-S1Y[Ind1])*Ds1[Ind1] < 0.\n",
    "        indout = indout & ((S10[Ind1]-S1X[Ind1])*S1X[Ind1] + (S11[Ind1]-S1Y[Ind1])*S1Y[Ind1] < 0.)\n",
    "        indout = indout & ((S10[Ind1]-S2X[Ind1])*S2X[Ind1] + (S11[Ind1]-S2Y[Ind1])*S2Y[Ind1] < 0.)\n",
    "        Ind1[Ind1] = ~indout\n",
    "        del Ind, R2, L, S1X, S1Y, S2X, S2Y, indout\n",
    "\n",
    "    # Identify the POut (if any) and PIn (if any)\n",
    "    VIn0, VIn1 = np.tile(vIn[0,:],(NL,1)), np.tile(vIn[1,:],(NL,1))\n",
    "\n",
    "    sca0, sca1 = np.nan*np.ones((NL,NS)), np.nan*np.ones((NL,NS))\n",
    "    sca0[Ind0] = us0[Ind0]*VIn0[Ind0]*np.cos(np.arctan2(S01[Ind0],S00[Ind0])) + us1[Ind0]*VIn0[Ind0]*np.sin(np.arctan2(S01[Ind0],S00[Ind0])) + us2[Ind0]*VIn1[Ind0]\n",
    "    sca1[Ind1] = us0[Ind1]*VIn0[Ind1]*np.cos(np.arctan2(S11[Ind1],S10[Ind1])) + us1[Ind1]*VIn0[Ind1]*np.sin(np.arctan2(S11[Ind1],S10[Ind1])) + us2[Ind1]*VIn1[Ind1]\n",
    "    ind0out, ind1out = np.copy(Ind0), np.copy(Ind1)\n",
    "    ind0out[ind0out] = sca0[ind0out]<0.\n",
    "    ind1out[ind1out] = sca1[ind1out]<0.\n",
    "    kk0, kk1 = np.nan*np.ones((NL,NS)), np.nan*np.ones((NL,NS))\n",
    "    kk0[ind0out], kk1[ind1out] = k0[ind0out], k1[ind1out]\n",
    "    kk = np.fmin(kk0,kk1)\n",
    "    kout = np.nanmin(kk,axis=1)\n",
    "    SOut = Ds + kout[np.newaxis,:]*us\n",
    "    indOut = np.nan*np.ones((NL,))\n",
    "    indok = ~np.isnan(kout)\n",
    "    indOut[indok] = np.nanargmin(kk[indok,:],axis=1)\n",
    "    phi = np.arctan2(SOut[1,indok],SOut[0,indok])\n",
    "    VPerp = np.nan*np.ones((3,NL),dtype=float)\n",
    "    VPerp[:,indok] = np.array([np.cos(phi)*vIn[0,indOut[indok].astype(int)], np.sin(phi)*vIn[0,indOut[indok].astype(int)], vIn[1,indOut[indok].astype(int)]])\n",
    "    \n",
    "    ind0in, ind1in = np.copy(Ind0), np.copy(Ind1)\n",
    "    ind0in[ind0in] = sca0[ind0in]>0.\n",
    "    ind1in[ind1in] = sca1[ind1in]>0.\n",
    "    ind0in[ind0in] = k0[ind0in] < (np.tile(kout,(NS,1)).T)[ind0in]\n",
    "    ind1in[ind1in] = k1[ind1in] < (np.tile(kout,(NS,1)).T)[ind1in]\n",
    "    kk0, kk1 = np.nan*np.ones((NL,NS)), np.nan*np.ones((NL,NS))\n",
    "    kk0[ind0in], kk1[ind1in] = k0[ind0in], k1[ind1in]\n",
    "    kk = np.fmin(kk0,kk1)\n",
    "    SIn = Ds + np.nanmin(kk,axis=1)[np.newaxis,:]*us\n",
    "    \n",
    "    return SIn, SOut, VPerp, indOut\n",
    "    "
   ]
  },
  {
   "cell_type": "markdown",
   "metadata": {},
   "source": [
    "## Cython version"
   ]
  },
  {
   "cell_type": "code",
   "execution_count": 292,
   "metadata": {
    "collapsed": false
   },
   "outputs": [
    {
     "ename": "SyntaxError",
     "evalue": "invalid syntax (<ipython-input-292-b83c72643940>, line 1)",
     "output_type": "error",
     "traceback": [
      "\u001b[0;36m  File \u001b[0;32m\"<ipython-input-292-b83c72643940>\"\u001b[0;36m, line \u001b[0;32m1\u001b[0m\n\u001b[0;31m    def Calc_LOS_PInOut_cython(np.ndarray[DTYPE_t, ndim=2] Ds, np.ndarray[DTYPE_t, ndim=2] us,\u001b[0m\n\u001b[0m                                 ^\u001b[0m\n\u001b[0;31mSyntaxError\u001b[0m\u001b[0;31m:\u001b[0m invalid syntax\n"
     ]
    }
   ],
   "source": [
    "def Calc_LOS_PInOut_cython(np.ndarray[DTYPE_t, ndim=2] Ds, np.ndarray[DTYPE_t, ndim=2] us,\n",
    "                           np.ndarray[DTYPE_t, ndim=2,mode='c'] VPoly, np.ndarray[DTYPE_t, ndim=2,mode='c'] vIn,\n",
    "                           RMin=None, Margin=0.1, Forbid=True, EpsUz=1.e-9, EpsVz=1.e-9, EpsA=1.e-9, EpsB=1.e-9):\n",
    "    \n",
    "    \n",
    "    \n",
    "    \n",
    "    return Pin, POut, "
   ]
  },
  {
   "cell_type": "markdown",
   "metadata": {},
   "source": [
    "## Pythran version"
   ]
  },
  {
   "cell_type": "code",
   "execution_count": null,
   "metadata": {
    "collapsed": true
   },
   "outputs": [],
   "source": []
  },
  {
   "cell_type": "markdown",
   "metadata": {},
   "source": [
    "## Numba version"
   ]
  },
  {
   "cell_type": "code",
   "execution_count": null,
   "metadata": {
    "collapsed": true
   },
   "outputs": [],
   "source": []
  },
  {
   "cell_type": "markdown",
   "metadata": {},
   "source": [
    "# Benchmark overview"
   ]
  },
  {
   "cell_type": "markdown",
   "metadata": {},
   "source": [
    "## Test data"
   ]
  },
  {
   "cell_type": "code",
   "execution_count": 42,
   "metadata": {
    "collapsed": true
   },
   "outputs": [],
   "source": [
    "# Useful functions for defining input data\n",
    "\n",
    "C, a = [3.,0.], 1.\n",
    "def makeVesPoly(NS, C=C, a=a):\n",
    "    theta = np.linspace(0,2.*np.pi,NS+1)\n",
    "    VP = np.array([C[0]+a*np.cos(theta), C[1]+a*np.sin(theta)])\n",
    "    ind = (VP[1,:]<C[1]-0.85*a).nonzero()[0]\n",
    "    div = np.array([[C[0]-0.2*a, C[0], C[0]+0.2*a],[C[1]-1.2*a, C[1]-0.75*a, C[1]-1.2*a]])\n",
    "    VP = np.concatenate((VP[:,:ind[0]],div,VP[:,ind[-1]+1:-1],VP[:,0:1]), axis=1)\n",
    "    return VP\n",
    "\n",
    "phi = [0.,np.pi/3.,np.pi/2.,np.pi]\n",
    "Dr = [-0.1,0.1]\n",
    "def makeLOS(NL, phi=phi, theta=phi, Dr=Dr, dphi=0., Dthet=np.pi/2., C=C, a=a):\n",
    "    Ntot = len(phi)*len(theta)*len(Dr)\n",
    "    nn = np.ceil(Ntot/NL)\n",
    "    Ds, us = [], []\n",
    "    for ii in range(len(Dr)):\n",
    "        for jj in range(len(phi)):\n",
    "            for kk in range(len(theta)):\n",
    "                D = np.array([(C[0]+(a+Dr[ii])*np.cos(theta[kk]))*np.cos(phi[jj]), (C[0]+(a+Dr[ii])*np.cos(theta[kk]))*np.sin(phi[jj]), C[1]+(a+Dr[ii])*np.sin(theta[kk])])\n",
    "                Ref = np.array([C[0]*np.cos(phi[jj]), C[0]*np.sin(phi[jj]), C[1]])\n",
    "                duRef = (Ref-D)/np.linalg.norm(Ref-D)\n",
    "                if NL==1:\n",
    "                    dus = duRef.reshape((3,1))\n",
    "                else:\n",
    "                    ephi = np.array([-np.sin(phi[jj]),np.cos(phi[jj]),0.])\n",
    "                    eperp = np.cross(ephi,duRef)/np.linalg.norm(np.cross(ephi,duRef))\n",
    "                    epar = duRef*np.cos(dphi) + ephi*np.sin(dphi)\n",
    "                    DThet = np.linspace(-Dthet,Dthet,NL)[np.newaxis,:]\n",
    "                    dus = epar[:,np.newaxis]*np.cos(DThet) + eperp[:,np.newaxis]*np.sin(DThet)\n",
    "                    dus = np.concatenate((duRef.reshape((3,1)),dus),axis=1)\n",
    "                dus = dus/(np.sqrt(np.sum(dus**2,axis=0))[np.newaxis,:])\n",
    "                Ds.append(np.tile(D,(dus.shape[1],1)).T)\n",
    "                us.append(dus)\n",
    "    Ds = np.concatenate(tuple(Ds),axis=1)\n",
    "    us = np.concatenate(tuple(us),axis=1)\n",
    "    return Ds, us\n",
    "\n",
    "                \n",
    "\n"
   ]
  },
  {
   "cell_type": "markdown",
   "metadata": {},
   "source": [
    "## Results "
   ]
  },
  {
   "cell_type": "markdown",
   "metadata": {},
   "source": [
    "### Preliminary checks and debugging"
   ]
  },
  {
   "cell_type": "code",
   "execution_count": 335,
   "metadata": {
    "collapsed": false
   },
   "outputs": [
    {
     "name": "stderr",
     "output_type": "stream",
     "text": [
      "/Applications/Anaconda/python27/lib/python2.7/site-packages/ipykernel/__main__.py:40: RuntimeWarning: divide by zero encountered in double_scalars\n",
      "/Applications/Anaconda/python27/lib/python2.7/site-packages/ipykernel/__main__.py:62: RuntimeWarning: divide by zero encountered in divide\n",
      "/Applications/Anaconda/python27/lib/python2.7/site-packages/ipykernel/__main__.py:62: RuntimeWarning: invalid value encountered in divide\n",
      "/Applications/Anaconda/python27/lib/python2.7/site-packages/ipykernel/__main__.py:63: RuntimeWarning: divide by zero encountered in divide\n",
      "/Applications/Anaconda/python27/lib/python2.7/site-packages/ipykernel/__main__.py:63: RuntimeWarning: invalid value encountered in divide\n",
      "/Applications/Anaconda/python27/lib/python2.7/site-packages/ipykernel/__main__.py:63: RuntimeWarning: invalid value encountered in subtract\n",
      "/Applications/Anaconda/python27/lib/python2.7/site-packages/ipykernel/__main__.py:64: RuntimeWarning: divide by zero encountered in divide\n",
      "/Applications/Anaconda/python27/lib/python2.7/site-packages/ipykernel/__main__.py:64: RuntimeWarning: invalid value encountered in divide\n",
      "/Applications/Anaconda/python27/lib/python2.7/site-packages/ipykernel/__main__.py:64: RuntimeWarning: invalid value encountered in add\n",
      "/Applications/Anaconda/python27/lib/python2.7/site-packages/ipykernel/__main__.py:66: RuntimeWarning: invalid value encountered in less\n",
      "/Applications/Anaconda/python27/lib/python2.7/site-packages/ipykernel/__main__.py:66: RuntimeWarning: invalid value encountered in greater\n",
      "/Applications/Anaconda/python27/lib/python2.7/site-packages/ipykernel/__main__.py:75: RuntimeWarning: invalid value encountered in greater\n"
     ]
    }
   ],
   "source": [
    "VPoly = makeVesPoly(50)\n",
    "vIn = np.array([-(VPoly[1,1:]-VPoly[1,:-1]), VPoly[0,1:]-VPoly[0,:-1]])\n",
    "vIn = vIn/np.tile(np.sqrt(np.sum(vIn**2,axis=0)),(2,1))\n",
    "Ds, us = makeLOS(100)\n",
    "\n",
    "N, nN = 0, Ds.shape[1]\n",
    "SIn0, SOut0, VPerp0, indOut0 = Calc_LOS_PInOut_python(Ds[:,N:N+nN], us[:,N:N+nN], VPoly, vIn, Forbid=True)#[:,N:N+nN]\n",
    "SIn1, SOut1, VPerp1, indOut1 = Calc_LOS_PInOut_numpy1(Ds[:,N:N+nN], us[:,N:N+nN], VPoly, vIn, Forbid=True)"
   ]
  },
  {
   "cell_type": "code",
   "execution_count": 336,
   "metadata": {
    "collapsed": false
   },
   "outputs": [
    {
     "name": "stdout",
     "output_type": "stream",
     "text": [
      "True\n",
      "True\n",
      "True\n",
      "True\n"
     ]
    }
   ],
   "source": [
    "print np.allclose(SIn0, SIn1,atol=1.e-9,rtol=0., equal_nan=True)\n",
    "print np.allclose(SOut0, SOut1,atol=1.e-9,rtol=0., equal_nan=True)\n",
    "print np.allclose(VPerp0, VPerp1,atol=1.e-9,rtol=0., equal_nan=True)\n",
    "print np.allclose(indOut, indOut,atol=1.e-9,rtol=0., equal_nan=True)"
   ]
  },
  {
   "cell_type": "code",
   "execution_count": 337,
   "metadata": {
    "collapsed": false
   },
   "outputs": [
    {
     "name": "stdout",
     "output_type": "stream",
     "text": [
      "0.0 []\n",
      "[]\n",
      "[]\n",
      "[]\n",
      "[]\n",
      "[]\n",
      "[]\n"
     ]
    },
    {
     "name": "stderr",
     "output_type": "stream",
     "text": [
      "/Applications/Anaconda/python27/lib/python2.7/site-packages/ipykernel/__main__.py:2: RuntimeWarning: invalid value encountered in greater\n",
      "  from ipykernel import kernelapp as app\n",
      "/Applications/Anaconda/python27/lib/python2.7/site-packages/ipykernel/__main__.py:7: RuntimeWarning: invalid value encountered in greater\n",
      "/Applications/Anaconda/python27/lib/python2.7/site-packages/ipykernel/__main__.py:8: RuntimeWarning: invalid value encountered in greater\n"
     ]
    }
   ],
   "source": [
    "d = np.sqrt(np.sum((SIn0-SIn1)**2,axis=0))\n",
    "print np.nanmax(d), (d>0.1*np.nanmax(d)).nonzero()[0]\n",
    "print (np.any(np.isnan(SOut0),axis=0) & np.all(~np.isnan(SOut1),axis=0)).nonzero()[0]\n",
    "print (np.any(np.isnan(SOut1),axis=0) & np.all(~np.isnan(SOut0),axis=0)).nonzero()[0]\n",
    "print (np.any(np.isnan(SIn0),axis=0) & np.all(~np.isnan(SIn1),axis=0)).nonzero()[0]\n",
    "print (np.any(np.isnan(SIn1),axis=0) & np.all(~np.isnan(SIn0),axis=0)).nonzero()[0]\n",
    "print (np.sqrt(np.sum((SOut0-SOut1)**2,axis=0))>1.e-9).nonzero()[0]\n",
    "print (np.sqrt(np.sum((SIn0-SIn1)**2,axis=0))>1.e-9).nonzero()[0]"
   ]
  },
  {
   "cell_type": "code",
   "execution_count": 330,
   "metadata": {
    "collapsed": false
   },
   "outputs": [
    {
     "data": {
      "text/plain": [
       "array([ 24.])"
      ]
     },
     "execution_count": 330,
     "metadata": {},
     "output_type": "execute_result"
    }
   ],
   "source": [
    "indOut1"
   ]
  },
  {
   "cell_type": "markdown",
   "metadata": {},
   "source": [
    "### Benchmark"
   ]
  },
  {
   "cell_type": "code",
   "execution_count": 339,
   "metadata": {
    "collapsed": false
   },
   "outputs": [
    {
     "name": "stdout",
     "output_type": "stream",
     "text": [
      "\n",
      "LS = 50\n",
      "    LL = 1\n"
     ]
    },
    {
     "name": "stderr",
     "output_type": "stream",
     "text": [
      "/Applications/Anaconda/python27/lib/python2.7/site-packages/ipykernel/__main__.py:40: RuntimeWarning: divide by zero encountered in double_scalars\n"
     ]
    },
    {
     "name": "stdout",
     "output_type": "stream",
     "text": [
      "        python 0.0230595 / 0.00742813329242\n",
      "        numpy1 0.003006 / 0.000706050486863   True vs python\n",
      "    LL = 4\n"
     ]
    },
    {
     "name": "stderr",
     "output_type": "stream",
     "text": [
      "/Applications/Anaconda/python27/lib/python2.7/site-packages/ipykernel/__main__.py:62: RuntimeWarning: divide by zero encountered in divide\n",
      "/Applications/Anaconda/python27/lib/python2.7/site-packages/ipykernel/__main__.py:62: RuntimeWarning: invalid value encountered in divide\n",
      "/Applications/Anaconda/python27/lib/python2.7/site-packages/ipykernel/__main__.py:63: RuntimeWarning: divide by zero encountered in divide\n",
      "/Applications/Anaconda/python27/lib/python2.7/site-packages/ipykernel/__main__.py:63: RuntimeWarning: invalid value encountered in divide\n",
      "/Applications/Anaconda/python27/lib/python2.7/site-packages/ipykernel/__main__.py:63: RuntimeWarning: invalid value encountered in subtract\n",
      "/Applications/Anaconda/python27/lib/python2.7/site-packages/ipykernel/__main__.py:64: RuntimeWarning: divide by zero encountered in divide\n",
      "/Applications/Anaconda/python27/lib/python2.7/site-packages/ipykernel/__main__.py:64: RuntimeWarning: invalid value encountered in divide\n",
      "/Applications/Anaconda/python27/lib/python2.7/site-packages/ipykernel/__main__.py:64: RuntimeWarning: invalid value encountered in add\n",
      "/Applications/Anaconda/python27/lib/python2.7/site-packages/ipykernel/__main__.py:66: RuntimeWarning: invalid value encountered in less\n",
      "/Applications/Anaconda/python27/lib/python2.7/site-packages/ipykernel/__main__.py:66: RuntimeWarning: invalid value encountered in greater\n",
      "/Applications/Anaconda/python27/lib/python2.7/site-packages/ipykernel/__main__.py:75: RuntimeWarning: invalid value encountered in greater\n"
     ]
    },
    {
     "name": "stdout",
     "output_type": "stream",
     "text": [
      "        python 0.117589 / 0.00574463221538\n",
      "        numpy1 0.0060155 / 0.000384997779214   True vs python\n",
      "    LL = 10\n",
      "        python 0.2804675 / 0.00445022072374\n",
      "        numpy1 0.0107475 / 0.000517371713568   True vs python\n",
      "    LL = 40\n",
      "        python 1.0970095 / 0.00235702054297\n",
      "        numpy1 0.042473 / 0.00163807912202   True vs python\n",
      "    LL = 100\n",
      "        python 2.717074 / 0.015011223648\n",
      "        numpy1 0.1259775 / 0.00501472252473   True vs python\n",
      "    LL = 400\n",
      "        python 10.9057655 / 0.0750114216533\n",
      "        numpy1 0.408146 / 0.00210914433835   True vs python\n",
      "    LL = 1000\n",
      "        python 27.2253725 / 0.085456125226\n",
      "        numpy1 1.846266 / 0.0151989141573   True vs python\n",
      "    LL = 4000\n",
      "        python 120.0194295 / 29.0949347447\n",
      "        numpy1 7.2830195 / 0.32406563815   True vs python\n",
      "\n",
      "LS = 200\n",
      "    LL = 1\n",
      "        python 0.0606555 / 0.00669111211683\n",
      "        numpy1 0.0045085 / 0.000290467227067   True vs python\n",
      "    LL = 4\n",
      "        python 0.4183395 / 0.0992131500838\n",
      "        numpy1 0.0137295 / 0.000753754900482   True vs python\n",
      "    LL = 10\n",
      "        python 0.9740525 / 0.017185337029\n",
      "        numpy1 0.0309635 / 0.000868112440874   True vs python\n",
      "    LL = 40\n",
      "        python 3.828346 / 0.140618468068\n",
      "        numpy1 0.1202065 / 0.000805278616381   True vs python\n",
      "    LL = 100\n",
      "        python 9.4795975 / 1.38696570168\n",
      "        numpy1 0.509825 / 0.00168779679168   True vs python\n",
      "    LL = 400\n",
      "        python 39.2199145 / 4.88551095364\n",
      "        numpy1 2.320125 / 0.0235408189375   True vs python\n",
      "    LL = 1000\n",
      "        python 96.623983 / 6.07646155283\n",
      "        numpy1 4.914901 / 0.0773280962122   True vs python\n",
      "    LL = 4000\n",
      "        python 392.694611 / 13.0282230411\n",
      "        numpy1 118.1020775 / 10.6656696901   True vs python\n"
     ]
    },
    {
     "data": {
      "image/png": "[encoded data removed]",
      "text/plain": [
       "<matplotlib.figure.Figure at 0x7fed67c7a1d0>"
      ]
     },
     "metadata": {},
     "output_type": "display_data"
    }
   ],
   "source": [
    "######################################## (to be edited)\n",
    "# Dictionnary of functions to be tested (add key to add a function)\n",
    "Tests = {'python':{'func':Calc_LOS_PInOut_python},\n",
    "         'numpy1':{'func':Calc_LOS_PInOut_numpy1}}\n",
    "\n",
    "######################################## (can be edited)\n",
    "# Parameters of the benchmark\n",
    "\n",
    "# Number of segments constituting the vessel polygon \n",
    "# (i.e.: the polygon representing the cross-section of the toroial vessel) \n",
    "LS = [50,200]#,500]\n",
    "\n",
    "# Number of Lines of Sight for which the function should be run\n",
    "#, (i.e.: semi-lines)\n",
    "LL = [1,4,10,40,100,400]#,1000,4000]#,10000,40000,100000,400000]\n",
    "NS, NL = len(LS), len(LL)\n",
    "\n",
    "\n",
    "######################################## (no editing)\n",
    "# Benchmark and plot\n",
    "\n",
    "Keys = Tests.keys()\n",
    "for kk in range(len(Keys)):\n",
    "    Tests[Keys[kk]]['t'] = np.nan*np.ones((NS,NL))\n",
    "    Tests[Keys[kk]]['check'] = dict([(nn,np.zeros((NS,NL),dtype=bool)) for nn in ['SIn','SOut','VPerp','indOut']])\n",
    "\n",
    "# Compute execution times\n",
    "LSr, LLr = [], []\n",
    "NRepeat = 10\n",
    "for ii in range(NS):\n",
    "    VPoly = makeVesPoly(LS[ii])\n",
    "    vIn = np.array([-(VPoly[1,1:]-VPoly[1,:-1]), VPoly[0,1:]-VPoly[0,:-1]])\n",
    "    vIn = vIn/np.tile(np.sqrt(np.sum(vIn**2,axis=0)),(2,1))\n",
    "    LSr.append(vIn.shape[1])\n",
    "    print(\"\")\n",
    "    print(\"LS = \"+str(LS[ii]))\n",
    "    for jj in range(NL):\n",
    "        Ds, us = makeLOS(LL[jj])\n",
    "        if ii==0:\n",
    "            LLr.append(Ds.shape[1])\n",
    "        print(\"    LL = \"+str(LL[jj]))\n",
    "        for kk in range(len(Keys)):\n",
    "            t = []\n",
    "            for tt in range(NRepeat):\n",
    "                t0 = dtm.datetime.now()\n",
    "                SIn, SOut, VPerp, indOut = Tests[Keys[kk]]['func'](Ds, us, VPoly, vIn)\n",
    "                t.append( (dtm.datetime.now()-t0).total_seconds() )\n",
    "                if tt==NRepeat-1:\n",
    "                        SIn0, SOut0, VPerp0, indOut0 = SIn, SOut, VPerp, indOut\n",
    "            \n",
    "            Tests[Keys[kk]]['t'][ii,jj] = np.median(t)\n",
    "            Str = \"        \"+Keys[kk]+\" \"+str(np.median(t))+\" / \"+str(np.std(t))\n",
    "            if kk>0:\n",
    "                Tests[Keys[kk]]['check']['SIn'][ii,jj] = np.allclose(SIn,SIn0,atol=1.e-9,rtol=0.,equal_nan=True)\n",
    "                Tests[Keys[kk]]['check']['SOut'][ii,jj] = np.allclose(SOut,SOut0,atol=1.e-9,rtol=0.,equal_nan=True)\n",
    "                Tests[Keys[kk]]['check']['VPerp'][ii,jj] = np.allclose(VPerp,VPerp0,atol=1.e-9,rtol=0.,equal_nan=True)\n",
    "                Tests[Keys[kk]]['check']['indOut'][ii,jj] = np.allclose(indOut,indOut0,atol=1.e-9,rtol=0.,equal_nan=True)\n",
    "                Tests[Keys[kk]]['check']['vs'] = Keys[kk-1]\n",
    "                allok = all([Tests[Keys[kk]]['check'][cc][ii,jj] for cc in ['SIn','SOut','VPerp','indOut']])\n",
    "                Str += \"   \"+str(allok)+\" vs \"+Keys[kk-1]\n",
    "            print(Str)\n",
    "        \n",
    "# Plot results  \n",
    "f = plt.figure(figsize=(12,10),facecolor='w')\n",
    "ax = f.add_axes([0.1,0.1,0.7,0.8], frameon=True,xscale='log',yscale='log')\n",
    "ax.set_xlabel(r\"Nb. LOS\")\n",
    "ax.set_ylabel(r\"CPU time (s)\")\n",
    "c = ['k', 'b', 'r', 'g','m','y','c']\n",
    "m = ['o','x','^','+','s']\n",
    "for kk in range(len(Keys)):\n",
    "    for ii in range(NS):\n",
    "        ax.plot(LLr, Tests[Keys[kk]]['t'][ii,:], ls='-', lw=1., c=c[kk], marker=m[ii])\n",
    "\n",
    "ax.legend(loc=2)\n",
    "        \n",
    "plt.show()\n",
    "        \n",
    "            \n",
    "            \n",
    "            "
   ]
  },
  {
   "cell_type": "code",
   "execution_count": null,
   "metadata": {
    "collapsed": false
   },
   "outputs": [],
   "source": [
    "Tests['python']\n",
    "Tests['numpy1']"
   ]
  },
  {
   "cell_type": "markdown",
   "metadata": {},
   "source": []
  },
  {
   "cell_type": "code",
   "execution_count": null,
   "metadata": {
    "collapsed": false
   },
   "outputs": [],
   "source": []
  },
  {
   "cell_type": "code",
   "execution_count": null,
   "metadata": {
    "collapsed": true
   },
   "outputs": [],
   "source": []
  },
  {
   "cell_type": "code",
   "execution_count": null,
   "metadata": {
    "collapsed": true
   },
   "outputs": [],
   "source": []
  }
 ],
 "metadata": {
  "kernelspec": {
   "display_name": "Python 2",
   "language": "python",
   "name": "python2"
  },
  "language_info": {
   "codemirror_mode": {
    "name": "ipython",
    "version": 2
   },
   "file_extension": ".py",
   "mimetype": "text/x-python",
   "name": "python",
   "nbconvert_exporter": "python",
   "pygments_lexer": "ipython2",
   "version": "2.7.13"
  }
 },
 "nbformat": 4,
 "nbformat_minor": 2
}
