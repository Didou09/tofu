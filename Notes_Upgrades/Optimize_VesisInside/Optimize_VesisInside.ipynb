{
 "cells": [
  {
   "cell_type": "markdown",
   "metadata": {},
   "source": [
    "# Introduction "
   ]
  },
  {
   "cell_type": "markdown",
   "metadata": {},
   "source": [
    "## Short description of the problem"
   ]
  },
  {
   "cell_type": "markdown",
   "metadata": {},
   "source": [
    "For any number of arbitrary points, provided in (X,Y,Z) or (R,Z,phi) or (R,Z) coordinates, we want to efficiently test whether they lie inside the volume defined by a toroidal vacuum vessel.\n",
    "This problem can be fully vectorized, it simply boils down to finding the most efficient routine for testing whether points lie inside or outside of a given polygon "
   ]
  },
  {
   "cell_type": "markdown",
   "metadata": {},
   "source": [
    "## Preliminary code for coordinates shifting "
   ]
  },
  {
   "cell_type": "code",
   "execution_count": 49,
   "metadata": {
    "collapsed": false
   },
   "outputs": [],
   "source": [
    "def CoordShift_numpy(Pts, In='(X,Y,Z)', Out='(R,Z)', CrossRef=0.):\n",
    "    \"\"\" Check the shape of an array of points coordinates and/or converts from 2D to 3D, 3D to 2D, cylindrical to cartesian... (CrossRef is an angle (Tor) or a distance (X for Lin))\"\"\"\n",
    "    Lstr = ['(x,y,z)','(r,phi,z)','(r,z,phi)','(r,z)','(x,y)','(y,z)']\n",
    "    assert all([type(ff) is str and ff.lower() in Lstr for ff in [In,Out]]), \"Arg In and Out (coordinate format) must be in \"+str(Lstr)+\" !\"\n",
    "    assert type(Pts) is np.ndarray and Pts.ndim in [1,2] and Pts.shape[0] in (2,3), \"Points must be a 1D or 2D np.ndarray of 2 or 3 coordinates !\"\n",
    "    assert type(CrossRef) in [int,float,np.int64,np.float64], \"Arg CrossRef must be a float !\"\n",
    "    \n",
    "    # Pre-format inputs\n",
    "    In, Out = In.lower(), Out.lower()\n",
    "    if Out==In:\n",
    "        return Pts\n",
    "    ndim = Pts.ndim\n",
    "    if ndim==1:\n",
    "        Pts = np.copy(Pts.reshape((Pts.shape[0],1)))\n",
    "\n",
    "    if In=='(r,z,phi)':\n",
    "        Pts = np.vstack((Pts[0,:],Pts[2,:],Pts[1,:]))\n",
    "        In = '(r,phi,z)'\n",
    "    \n",
    "    mod = False\n",
    "    if Out=='(r,z,phi)':\n",
    "        Out = '(r,phi,z)'\n",
    "        mod = True\n",
    "    \n",
    "    # Preliminary checks\n",
    "    NP = Pts.shape[1]\n",
    "    if Pts.shape[0]==2:\n",
    "        assert In in ['(r,z)','(x,y)','(y,z)'], \"Inconsistent input !\"\n",
    "\n",
    "    # Compute\n",
    "    if Out=='(r,phi,z)':\n",
    "        assert In in ['(r,z)','(x,y,z)','(x,y)'], \"Not compatible !\"\n",
    "        if In=='(r,z)':\n",
    "            pts = np.array([Pts[0,:], CrossRef*np.ones((NP,),dtype=float), Pts[1,:]])\n",
    "        elif In=='(x,y,z)':\n",
    "            R = np.hypot(Pts[0,:],Pts[1,:])\n",
    "            Theta = np.arctan2(Pts[1,:],Pts[0,:])\n",
    "            pts = np.array([R,Theta,Pts[2,:]])\n",
    "        elif In=='(x,y)':\n",
    "            R = np.hypot(Pts[0,:],Pts[1,:])\n",
    "            Theta = np.arctan2(Pts[1,:],Pts[0,:])\n",
    "            pts = np.array([R,Theta,CrossRef*np.ones((NP,),dtype=float)])\n",
    "    elif Out=='(x,y,z)':\n",
    "        assert In in ['(r,z)','(x,y)','(y,z)','(r,phi,z)'], \"Not compatible !\"\n",
    "        if In=='(r,z)':\n",
    "            pts = np.array([Pts[0,:]*np.cos(CrossRef), Pts[0,:]*np.sin(CrossRef), Pts[1,:]])\n",
    "        elif In=='(x,y)':\n",
    "            pts = np.array([Pts[0,:],Pts[1,:],CrossRef*np.ones((NP,),dtype=float)])\n",
    "        elif In=='(y,z)':\n",
    "            pts = np.array([CrossRef*np.ones((NP,),dtype=float), Pts[0,:], Pts[1,:]])\n",
    "        elif In=='(r,phi,z)':\n",
    "            pts = np.array([Pts[0,:]*np.cos(Pts[1,:]), Pts[0,:]*np.sin(Pts[1,:]), Pts[2,:]])\n",
    "    elif Out=='(y,z)':\n",
    "        assert In in ['(x,y,z)','(x,y)'], \"Not compatible !\"\n",
    "        if In=='(x,y,z)':\n",
    "            pts = Pts[1:,:]\n",
    "        elif In=='(x,y)':\n",
    "            pts = np.array([Pts[1,:], CrossRef*np.ones((NP,),dtype=float)])\n",
    "    elif Out=='(r,z)':\n",
    "        assert In in ['(r,phi,z)','(x,y,z)'], \"Not compatible !\"\n",
    "        if In=='(r,phi,z)':\n",
    "            pts = Pts[0::2,:]\n",
    "        elif In=='(x,y,z)':\n",
    "            pts = np.array([np.hypot(Pts[0,:],Pts[1,:]), Pts[2,:]])\n",
    "        elif In=='(x,y)':\n",
    "            pts = np.array([np.hypot(Pts[0,:],Pts[1,:]), CrossRef*np.ones((NP,),dtype=float)])\n",
    "    elif Out=='(x,y)':\n",
    "        assert In in ['(x,y,z)','(y,z)','(r,phi,z)'], \"Not compatible !\"\n",
    "        if In=='(x,y,z)':\n",
    "            pts = Pts[:-1,:]\n",
    "        elif In=='(y,z)':\n",
    "            pts = np.array([CrossRef*np.ones((NP,),dtype=float), Pts[0,:]])\n",
    "        elif '(r,phi,z)':\n",
    "            pts = np.array([Pts[0,:]*np.cos(Pts[1,:]), Pts[0,:]*np.sin(Pts[1,:])])\n",
    "    \n",
    "    # Format output\n",
    "    if mod:\n",
    "        pts = np.vstack((pts[0,:],pts[2,:],pts[1,:]))\n",
    "    \n",
    "    if ndim==1:\n",
    "        pts = pts.flatten()\n",
    "        \n",
    "    return pts\n",
    "        \n",
    "        \n",
    "        "
   ]
  },
  {
   "cell_type": "code",
   "execution_count": 4,
   "metadata": {
    "collapsed": true
   },
   "outputs": [],
   "source": [
    "%load_ext cython"
   ]
  },
  {
   "cell_type": "code",
   "execution_count": 50,
   "metadata": {
    "collapsed": false
   },
   "outputs": [],
   "source": [
    "%%cython\n",
    "import numpy as np\n",
    "\n",
    "def CoordShift(Pts, In='(X,Y,Z)', Out='(R,Z)', CrossRef=0.):\n",
    "    \"\"\" Check the shape of an array of points coordinates and/or converts from 2D to 3D, 3D to 2D, cylindrical to cartesian... (CrossRef is an angle (Tor) or a distance (X for Lin))\"\"\"\n",
    "    Lstr = ['(x,y,z)','(r,phi,z)','(r,z,phi)','(r,z)','(x,y)','(y,z)']\n",
    "    assert all([type(ff) is str and ff.lower() in Lstr for ff in [In,Out]]), \"Arg In and Out (coordinate format) must be in \"+str(Lstr)+\" !\"\n",
    "    assert type(Pts) is np.ndarray and Pts.ndim in [1,2] and Pts.shape[0] in (2,3), \"Points must be a 1D or 2D np.ndarray of 2 or 3 coordinates !\"\n",
    "    assert type(CrossRef) in [int,float,np.int64,np.float64], \"Arg CrossRef must be a float !\"\n",
    "    \n",
    "    # Pre-format inputs\n",
    "    In, Out = In.lower(), Out.lower()\n",
    "    if Out==In:\n",
    "        return Pts\n",
    "    \n",
    "    ndim = Pts.ndim\n",
    "    if ndim==1:\n",
    "        Pts = np.copy(Pts.reshape((Pts.shape[0],1)))\n",
    "\n",
    "    if In=='(r,z,phi)':\n",
    "        Pts = np.vstack((Pts[0,:],Pts[2,:],Pts[1,:]))\n",
    "        In = '(r,phi,z)'\n",
    "    \n",
    "    mod = False\n",
    "    if Out=='(r,z,phi)':\n",
    "        Out = '(r,phi,z)'\n",
    "        mod = True\n",
    "    \n",
    "    # Preliminary checks\n",
    "    NP = Pts.shape[1]\n",
    "    if Pts.shape[0]==2:\n",
    "        assert In in ['(r,z)','(x,y)','(y,z)'], \"Inconsistent input !\"\n",
    "\n",
    "    # Compute\n",
    "    if Out=='(r,phi,z)':\n",
    "        assert In in ['(r,z)','(x,y,z)','(x,y)'], \"Not compatible !\"\n",
    "        if In=='(r,z)':\n",
    "            pts = np.array([Pts[0,:], CrossRef*np.ones((NP,),dtype=float), Pts[1,:]])\n",
    "        elif In=='(x,y,z)':\n",
    "            R = np.hypot(Pts[0,:],Pts[1,:])\n",
    "            Theta = np.arctan2(Pts[1,:],Pts[0,:])\n",
    "            pts = np.array([R,Theta,Pts[2,:]])\n",
    "        elif In=='(x,y)':\n",
    "            R = np.hypot(Pts[0,:],Pts[1,:])\n",
    "            Theta = np.arctan2(Pts[1,:],Pts[0,:])\n",
    "            pts = np.array([R,Theta,CrossRef*np.ones((NP,),dtype=float)])\n",
    "    elif Out=='(x,y,z)':\n",
    "        assert In in ['(r,z)','(x,y)','(y,z)','(r,phi,z)'], \"Not compatible !\"\n",
    "        if In=='(r,z)':\n",
    "            pts = np.array([Pts[0,:]*np.cos(CrossRef), Pts[0,:]*np.sin(CrossRef), Pts[1,:]])\n",
    "        elif In=='(x,y)':\n",
    "            pts = np.array([Pts[0,:],Pts[1,:],CrossRef*np.ones((NP,),dtype=float)])\n",
    "        elif In=='(y,z)':\n",
    "            pts = np.array([CrossRef*np.ones((NP,),dtype=float), Pts[0,:], Pts[1,:]])\n",
    "        elif In=='(r,phi,z)':\n",
    "            pts = np.array([Pts[0,:]*np.cos(Pts[1,:]), Pts[0,:]*np.sin(Pts[1,:]), Pts[2,:]])\n",
    "    elif Out=='(y,z)':\n",
    "        assert In in ['(x,y,z)','(x,y)'], \"Not compatible !\"\n",
    "        if In=='(x,y,z)':\n",
    "            pts = Pts[1:,:]\n",
    "        elif In=='(x,y)':\n",
    "            pts = np.array([Pts[1,:], CrossRef*np.ones((NP,),dtype=float)])\n",
    "    elif Out=='(r,z)':\n",
    "        assert In in ['(r,phi,z)','(x,y,z)'], \"Not compatible !\"\n",
    "        if In=='(r,phi,z)':\n",
    "            pts = Pts[0::2,:]\n",
    "        elif In=='(x,y,z)':\n",
    "            pts = np.array([np.hypot(Pts[0,:],Pts[1,:]), Pts[2,:]])\n",
    "        elif In=='(x,y)':\n",
    "            pts = np.array([np.hypot(Pts[0,:],Pts[1,:]), CrossRef*np.ones((NP,),dtype=float)])\n",
    "    elif Out=='(x,y)':\n",
    "        assert In in ['(x,y,z)','(y,z)','(r,phi,z)'], \"Not compatible !\"\n",
    "        if In=='(x,y,z)':\n",
    "            pts = Pts[:-1,:]\n",
    "        elif In=='(y,z)':\n",
    "            pts = np.array([CrossRef*np.ones((NP,),dtype=float), Pts[0,:]])\n",
    "        elif '(r,phi,z)':\n",
    "            pts = np.array([Pts[0,:]*np.cos(Pts[1,:]), Pts[0,:]*np.sin(Pts[1,:])])\n",
    "    \n",
    "    # Format output\n",
    "\n",
    "    if mod:\n",
    "        pts = np.vstack((pts[0,:],pts[2,:],pts[1,:]))\n",
    "\n",
    "    if ndim==1:\n",
    "        pts = pts.flatten()\n",
    "\n",
    "    return pts\n",
    "        "
   ]
  },
  {
   "cell_type": "code",
   "execution_count": 51,
   "metadata": {
    "collapsed": false
   },
   "outputs": [
    {
     "name": "stdout",
     "output_type": "stream",
     "text": [
      "10000 loops, best of 3: 136 µs per loop\n",
      "The slowest run took 5.29 times longer than the fastest. This could mean that an intermediate result is being cached.\n",
      "10000 loops, best of 3: 113 µs per loop\n"
     ]
    }
   ],
   "source": [
    "Pts = np.array([np.linspace(0,10.,1000), np.linspace(0,10,1000), np.linspace(0,10,1000)])\n",
    "ptsn = CoordShift_numpy(Pts, In='(x,y,z)',Out='(r,phi,z)')\n",
    "ptsc = CoordShift(Pts, In='(x,y,z)',Out='(r,z,phi)')\n",
    "\n",
    "%timeit ptsn = CoordShift_numpy(Pts, In='(x,y,z)',Out='(r,z,phi)')\n",
    "%timeit ptsc = CoordShift(Pts, In='(x,y,z)',Out='(r,z,phi)')"
   ]
  },
  {
   "cell_type": "code",
   "execution_count": null,
   "metadata": {
    "collapsed": false
   },
   "outputs": [],
   "source": []
  },
  {
   "cell_type": "markdown",
   "metadata": {},
   "source": [
    "## Code"
   ]
  },
  {
   "cell_type": "code",
   "execution_count": null,
   "metadata": {
    "collapsed": true
   },
   "outputs": [],
   "source": [
    "from matplotlib.path import Path\n",
    "\n",
    "def _Ves_isInside_plg(Pts, VPoly, VLong=None, VType='Tor', In='(X,Y,Z)', Test=True):\n",
    "    if Test:\n",
    "        assert type(Pts) is np.ndarray and Pts.ndim in [1,2], \"Arg Pts must be a 1D or 2D np.ndarray !\"\n",
    "        assert type(VPoly) is np.ndarray and VPoly.ndim==2 and VPoly.shape[0]==2, \"Arg VPoly must be a (2,N) np.ndarray !\"\n",
    "        assert VLong is None or (hasattr(VLong,'__iter__') and len(VLong)==2), \"Arg VLong must be a len()==2 iterable !\"\n",
    "        assert type(VType) is str and VType.lower() in ['tor','lin'], \"Arg VType must be a str in ['Tor','Lin'] !\"\n",
    "        \n",
    "    path = Path(Poly.T)\n",
    "    if Vtype.lower()=='tor':\n",
    "        Pts = CoordShift(Pts, In=In, Out='(R,Z)')\n",
    "        ind = Path.contains_points(Pts.T, transform=None, radius=0.0)\n",
    "    else:\n",
    "        Pts = CoordShift(Pts, In=In, Out='(X,Y)')\n",
    "        ind = Path.contains_points(Pts.T, transform=None, radius=0.0)\n",
    "        if In.lower()=='(x,y,z)':\n",
    "            ind = ind & (Pts[2,:]>=VLong[0]) & (Pts[2,:]<=Vlong[1])\n",
    "    return ind\n",
    "    \n"
   ]
  },
  {
   "cell_type": "code",
   "execution_count": null,
   "metadata": {
    "collapsed": false
   },
   "outputs": [],
   "source": [
    "\n",
    "\n"
   ]
  },
  {
   "cell_type": "code",
   "execution_count": null,
   "metadata": {
    "collapsed": true
   },
   "outputs": [],
   "source": []
  },
  {
   "cell_type": "code",
   "execution_count": null,
   "metadata": {
    "collapsed": true
   },
   "outputs": [],
   "source": []
  }
 ],
 "metadata": {
  "kernelspec": {
   "display_name": "Python 2",
   "language": "python",
   "name": "python2"
  },
  "language_info": {
   "codemirror_mode": {
    "name": "ipython",
    "version": 2
   },
   "file_extension": ".py",
   "mimetype": "text/x-python",
   "name": "python",
   "nbconvert_exporter": "python",
   "pygments_lexer": "ipython2",
   "version": "2.7.13"
  }
 },
 "nbformat": 4,
 "nbformat_minor": 2
}
