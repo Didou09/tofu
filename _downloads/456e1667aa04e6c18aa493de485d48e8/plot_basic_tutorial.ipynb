{
  "cells": [
    {
      "cell_type": "code",
      "execution_count": null,
      "metadata": {
        "collapsed": false
      },
      "outputs": [],
      "source": [
        "%matplotlib inline"
      ]
    },
    {
      "cell_type": "markdown",
      "metadata": {},
      "source": [
        "\nGetting started: 5 minutes tutorial for `tofu`\n^^^^^^^^^^^^^^^^^^^^^^^^^^^^^^^^^^^^^^^^^^^^^^\n\nThis is a tutorial that aims to get a new user a little familiar with tofu's structure.\n\n"
      ]
    },
    {
      "cell_type": "code",
      "execution_count": null,
      "metadata": {
        "collapsed": false
      },
      "outputs": [],
      "source": [
        "import matplotlib.pyplot as plt"
      ]
    },
    {
      "cell_type": "markdown",
      "metadata": {},
      "source": [
        "We start by loading `tofu`. You might see some warnings at this stage since optional modules for `tofu` could\nbe missing on the machine you are working on. This can be ignored safely.\n\n"
      ]
    },
    {
      "cell_type": "code",
      "execution_count": null,
      "metadata": {
        "collapsed": false
      },
      "outputs": [],
      "source": [
        "import tofu as tf"
      ]
    },
    {
      "cell_type": "markdown",
      "metadata": {},
      "source": [
        "We can now create our first configuration.\nIn `tofu` speak, a configuration is the geometry of the device and its structures.\n`tofu` provides pre-defined ones for your to try, so we're going to do just that:\n\n"
      ]
    },
    {
      "cell_type": "code",
      "execution_count": null,
      "metadata": {
        "collapsed": false
      },
      "outputs": [],
      "source": [
        "configB2 = tf.geom.utils.create_config(\"B2\")"
      ]
    },
    {
      "cell_type": "markdown",
      "metadata": {},
      "source": [
        "The configuration can easily be visualized using the `.plot()` method:\n\n"
      ]
    },
    {
      "cell_type": "code",
      "execution_count": null,
      "metadata": {
        "collapsed": false
      },
      "outputs": [],
      "source": [
        "configB2.plot()"
      ]
    },
    {
      "cell_type": "markdown",
      "metadata": {},
      "source": [
        "Since `tofu` is all about tomography, let's create a 1D camera and plot its output.\n\n"
      ]
    },
    {
      "cell_type": "code",
      "execution_count": null,
      "metadata": {
        "collapsed": false
      },
      "outputs": [],
      "source": [
        "import numpy as np\n\ncam1d = tf.geom.utils.create_CamLOS1D(\n    config=configB2,\n    P=[3.4, 0, 0],\n    N12=100,\n    F=0.1,\n    D12=0.1,\n    angs=[np.pi, 0, 0],\n    Name=\"\",\n    Exp=\"\",\n    Diag=\"\",\n)\ncam1d.plot_touch()"
      ]
    },
    {
      "cell_type": "markdown",
      "metadata": {},
      "source": [
        "The principle is similar for 2D cameras.\n\n"
      ]
    },
    {
      "cell_type": "code",
      "execution_count": null,
      "metadata": {
        "collapsed": false
      },
      "outputs": [],
      "source": [
        "cam2d = tf.geom.utils.create_CamLOS2D(\n    config=configB2,\n    P=[3.4, 0, 0],\n    N12=100,\n    F=0.1,\n    D12=0.1,\n    angs=[np.pi, 0, 0],\n    Name=\"\",\n    Exp=\"\",\n    Diag=\"\",\n)\ncam2d.plot_touch()"
      ]
    },
    {
      "cell_type": "markdown",
      "metadata": {},
      "source": [
        "What comes next is up to you!\nYou could now play with the function parameters (change the cameras direction, refinement, aperture),\nwith the plots (many are interactive) or create you own tomographic configuration.\n\n"
      ]
    }
  ],
  "metadata": {
    "kernelspec": {
      "display_name": "Python 3",
      "language": "python",
      "name": "python3"
    },
    "language_info": {
      "codemirror_mode": {
        "name": "ipython",
        "version": 3
      },
      "file_extension": ".py",
      "mimetype": "text/x-python",
      "name": "python",
      "nbconvert_exporter": "python",
      "pygments_lexer": "ipython3",
      "version": "3.6.9"
    }
  },
  "nbformat": 4,
  "nbformat_minor": 0
}