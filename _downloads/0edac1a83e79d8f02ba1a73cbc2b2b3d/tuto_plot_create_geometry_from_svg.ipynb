{
  "cells": [
    {
      "cell_type": "code",
      "execution_count": null,
      "metadata": {
        "collapsed": false
      },
      "outputs": [],
      "source": [
        "%matplotlib inline"
      ]
    },
    {
      "cell_type": "markdown",
      "metadata": {},
      "source": [
        "\n# Creating a geometry with Inkscape\n\nThis is a tutorial that shows you how to draw a geometry in Inkscape\nand load it in tofu.\n"
      ]
    },
    {
      "cell_type": "markdown",
      "metadata": {},
      "source": [
        "To see a tutorial on how to draw a vessel's geometry on Inkscape and save\nit to a `svg` file, you can check the video below. Basically, you just need\nto use straight *Bezier curves* to draw the closed polygons that will define\nthe vessel and optionally the structures. To define a PFC structure, just\nadd a fill color.\n\n"
      ]
    },
    {
      "cell_type": "markdown",
      "metadata": {},
      "source": [
        ".. raw:: html\n\n   <div class=\"text-center\">\n   <iframe width=\"560\" height=\"315\"\n   src=\"https://www.youtube.com/embed/92JyXj39n8E\"\n   title=\"YouTube video player\"\n   frameborder=\"0\" allow=\"accelerometer; autoplay; clipboard-write;\n   encrypted-media; gyroscope; picture-in-picture\" allowfullscreen>\n   </iframe>\n   </div>\n\n"
      ]
    },
    {
      "cell_type": "markdown",
      "metadata": {},
      "source": [
        "Now, on how to load it and use it in tofu (also shown in the video). We start\nby importing `tofu`.\n\n"
      ]
    },
    {
      "cell_type": "code",
      "execution_count": null,
      "metadata": {
        "collapsed": false
      },
      "outputs": [],
      "source": [
        "import tofu as tf"
      ]
    },
    {
      "cell_type": "markdown",
      "metadata": {},
      "source": [
        "`tofu` provides a geometry helper function that allows creating a\nconfiguration from a `svg` file. Supposing you saved it in a file named\n`\"myfirstgeom.svg\"`, do\n\n"
      ]
    },
    {
      "cell_type": "code",
      "execution_count": null,
      "metadata": {
        "collapsed": false
      },
      "outputs": [],
      "source": [
        "config = tf.geom.Config.from_svg(\"myfirstgeom.svg\", Name=\"Test\", Exp=\"Test\")"
      ]
    },
    {
      "cell_type": "markdown",
      "metadata": {},
      "source": [
        "It already gives you some information on what you loaded, but to see what it\nactually contains:\n\n"
      ]
    },
    {
      "cell_type": "code",
      "execution_count": null,
      "metadata": {
        "collapsed": false
      },
      "outputs": [],
      "source": [
        "print(config)"
      ]
    },
    {
      "cell_type": "markdown",
      "metadata": {},
      "source": [
        "To plot it, simply do\n\n"
      ]
    },
    {
      "cell_type": "code",
      "execution_count": null,
      "metadata": {
        "collapsed": false
      },
      "outputs": [],
      "source": [
        "config.plot()"
      ]
    },
    {
      "cell_type": "markdown",
      "metadata": {},
      "source": [
        "We can see that the z- and r-axis might not be exactly what we wanted. We\nmight also want to adjust the scale. Tofu let's fix those parameters\nwhen loading the configuration.\n\n"
      ]
    },
    {
      "cell_type": "code",
      "execution_count": null,
      "metadata": {
        "collapsed": false
      },
      "outputs": [],
      "source": [
        "config = tf.geom.Config.from_svg(\"myfirstgeom.svg\", Name=\"Test\", Exp=\"Test\",\n                                 z0=-140,\n                                 r0=10,\n                                 scale=0.5\n                                 )\nconfig.plot()\nimport matplotlib.pyplot as plt\nplt.show()"
      ]
    }
  ],
  "metadata": {
    "kernelspec": {
      "display_name": "Python 3",
      "language": "python",
      "name": "python3"
    },
    "language_info": {
      "codemirror_mode": {
        "name": "ipython",
        "version": 3
      },
      "file_extension": ".py",
      "mimetype": "text/x-python",
      "name": "python",
      "nbconvert_exporter": "python",
      "pygments_lexer": "ipython3",
      "version": "3.8.8"
    }
  },
  "nbformat": 4,
  "nbformat_minor": 0
}