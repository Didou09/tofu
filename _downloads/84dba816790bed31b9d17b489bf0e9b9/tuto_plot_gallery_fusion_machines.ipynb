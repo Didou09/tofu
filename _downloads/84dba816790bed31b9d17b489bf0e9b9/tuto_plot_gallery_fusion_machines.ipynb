{
  "cells": [
    {
      "cell_type": "code",
      "execution_count": null,
      "metadata": {
        "collapsed": false
      },
      "outputs": [],
      "source": [
        "%matplotlib inline"
      ]
    },
    {
      "cell_type": "markdown",
      "metadata": {},
      "source": [
        "\nA gallery of Fusion Machines\n^^^^^^^^^^^^^^^^^^^^^^^^^^^^\n\nThis tutorial functions as a gallery of fusion machines that can easily be\nloaded with `tofu`.\n\n"
      ]
    },
    {
      "cell_type": "markdown",
      "metadata": {},
      "source": [
        "We start by importing `tofu`.\n\n"
      ]
    },
    {
      "cell_type": "code",
      "execution_count": null,
      "metadata": {
        "collapsed": false
      },
      "outputs": [],
      "source": [
        "import tofu as tf"
      ]
    },
    {
      "cell_type": "markdown",
      "metadata": {},
      "source": [
        "`tofu` provides a geometry helper function that allows creating a\nconfiguration with a single call.\n\nCalling with empty arguments results in a default configuration. At the time\nof writing, this is ITER.\nBy printing the `config` object, a text representation of its components is\nprinted. This allows inspecting\ncomponent names, number of sections, color or visibility.\n\n"
      ]
    },
    {
      "cell_type": "code",
      "execution_count": null,
      "metadata": {
        "collapsed": false
      },
      "outputs": [],
      "source": [
        "config = tf.geom.utils.create_config()  # create default configuration\nprint(config)"
      ]
    },
    {
      "cell_type": "markdown",
      "metadata": {},
      "source": [
        "To get a list of all available built-in configs, one has to know some details\nabout `tofu`. Configurations can be accessed by names (ITER, WEST, JET, etc).\n\n"
      ]
    },
    {
      "cell_type": "code",
      "execution_count": null,
      "metadata": {
        "collapsed": false
      },
      "outputs": [],
      "source": [
        "print(tf.geom.utils._DCONFIG_TABLE.keys())"
      ]
    },
    {
      "cell_type": "markdown",
      "metadata": {},
      "source": [
        "With that being said, let's create a gallery of the \"top 3\" fusion machines\nprovided by `tofu` to accelerate diagnostic development.\n\n"
      ]
    },
    {
      "cell_type": "code",
      "execution_count": null,
      "metadata": {
        "collapsed": false
      },
      "outputs": [],
      "source": [
        "for fusion_machine in ['ITER', 'WEST', 'JET']:\n    config = tf.geom.utils.create_config(fusion_machine)\n    config.plot()"
      ]
    }
  ],
  "metadata": {
    "kernelspec": {
      "display_name": "Python 3",
      "language": "python",
      "name": "python3"
    },
    "language_info": {
      "codemirror_mode": {
        "name": "ipython",
        "version": 3
      },
      "file_extension": ".py",
      "mimetype": "text/x-python",
      "name": "python",
      "nbconvert_exporter": "python",
      "pygments_lexer": "ipython3",
      "version": "3.6.9"
    }
  },
  "nbformat": 4,
  "nbformat_minor": 0
}