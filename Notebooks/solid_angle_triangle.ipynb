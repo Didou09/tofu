{
 "cells": [
  {
   "cell_type": "markdown",
   "id": "guided-triple",
   "metadata": {},
   "source": [
    "# Benchmarking computation of solid angle for triangular aperture"
   ]
  },
  {
   "cell_type": "markdown",
   "id": "suffering-buddy",
   "metadata": {},
   "source": [
    "From [wikipedia](https://en.wikipedia.org/wiki/Solid_angle#Tetrahedron):\n",
    "\n",
    "Let OABC be the vertices of a tetrahedron with an origin at $O$ subtended by the triangular face $ABC$ where $\\vec a\\ ,\\, \\vec b\\ ,\\, \\vec c$ are the vector positions of the vertices $A$, $B$ and $C$. Define the vertex angle $\\theta_a$ to be the angle $BOC$ and define $\\theta_b$, $\\theta_c$ correspondingly. Let $\\phi_{ab}$ be the dihedral angle between the planes that contain the tetrahedral faces $OAC$ and $OBC$ and define $\\phi_{ac}$, $\\phi_{bc}$ correspondingly. The solid angle $\\Omega$ subtended by the triangular surface $ABC$ is given by\n",
    "\n",
    "$$\n",
    "\\Omega = \\left(\\phi_{ab} + \\phi_{bc} + \\phi_{ac}\\right)\\ - \\pi\\\n",
    "$$"
   ]
  },
  {
   "cell_type": "markdown",
   "id": "biological-cedar",
   "metadata": {},
   "source": [
    "In ``tofu`` we have the coordinates of the points $O$, $A$, $B$, and $C$. If we want to compute the solid angle this ways, we would have to compute the dihedral angles $\\phi_{ab}$, $\\phi_{bc}$, and $\\phi_{ac}$ first. To do so, the computation of the latter is described as such:"
   ]
  },
  {
   "cell_type": "markdown",
   "id": "public-blend",
   "metadata": {},
   "source": [
    "\\[...\\] if $\\mathbf{n}_A$ and $\\mathbf{n}_B$ are normal vector to the planes (defining the angle), one has:\n",
    "\n",
    "$$\\cos \\varphi =  \\frac{ \\left\\vert\\mathbf{n}_\\mathrm{A} \\cdot \\mathbf{n}_\\mathrm{B}\\right\\vert}{|\\mathbf{n}_\\mathrm{A} | |\\mathbf{n}_\\mathrm{B}|}$$\n",
    "\n",
    "where $\\mathbf{n}_A \\cdot \\mathbf{n}_B$ is the dot product of the vectors and $|\\mathbf{n}_\\mathrm{A} | |\\mathbf{n}_\\mathrm{B}|$ is the product of their lengths.\n",
    "\n",
    "The absolute value is required in above formulas, as the planes are not changed when changing all coefficient signs in one equation, or replacing one normal vector by its opposite.\n"
   ]
  },
  {
   "cell_type": "markdown",
   "id": "cross-costs",
   "metadata": {},
   "source": [
    "## Example of computation with original formula"
   ]
  },
  {
   "cell_type": "markdown",
   "id": "alternative-baker",
   "metadata": {},
   "source": [
    "Let's generate four arbitrary points in space and compute the solid angle on the triangle using this formula"
   ]
  },
  {
   "cell_type": "code",
   "execution_count": 59,
   "id": "chicken-fleet",
   "metadata": {},
   "outputs": [],
   "source": [
    "import numpy\n",
    "from mpl_toolkits import mplot3d"
   ]
  },
  {
   "cell_type": "code",
   "execution_count": 60,
   "id": "demonstrated-aruba",
   "metadata": {},
   "outputs": [
    {
     "data": {
      "text/plain": [
       "array([[ 0, -1,  5,  7],\n",
       "       [ 0, -5, -5, -1],\n",
       "       [ 0, -9,  1, -5]])"
      ]
     },
     "execution_count": 60,
     "metadata": {},
     "output_type": "execute_result"
    }
   ],
   "source": [
    "# We create randomly the coordinates of A, B, C\n",
    "coord = numpy.random.randint(-10, 10, size=(3, 4))\n",
    "# We set O to orign\n",
    "coord[:, 0] = 0\n",
    "coord"
   ]
  },
  {
   "cell_type": "code",
   "execution_count": 61,
   "id": "typical-separation",
   "metadata": {},
   "outputs": [],
   "source": [
    "%matplotlib inline\n",
    "import matplotlib.pyplot as plt"
   ]
  },
  {
   "cell_type": "code",
   "execution_count": 62,
   "id": "executive-memorabilia",
   "metadata": {},
   "outputs": [
    {
     "data": {
      "text/plain": [
       "[<mpl_toolkits.mplot3d.art3d.Line3D at 0x7ff1a19605e0>]"
      ]
     },
     "execution_count": 62,
     "metadata": {},
     "output_type": "execute_result"
    },
    {
     "data": {
      "image/png": "[encoded data removed]",
      "text/plain": [
       "<Figure size 432x288 with 1 Axes>"
      ]
     },
     "metadata": {
      "needs_background": "light"
     },
     "output_type": "display_data"
    }
   ],
   "source": [
    "fig = plt.figure()\n",
    "ax = plt.axes(projection='3d')\n",
    "# we plot the origin in red, A in green, B in blue and C in cyan.\n",
    "ax.scatter3D(coord[0], coord[1], coord[2], c=[\"r\", \"g\", \"b\", \"c\"])\n",
    "ax.plot_trisurf(coord[0, 1:], coord[1, 1:], coord[2, 1:], shade=False)\n",
    "ax.plot([coord[0,0], coord[0,1]], [coord[1,0], coord[1,1]], [coord[2,0], coord[2,1]], c=\"black\")\n",
    "ax.plot([coord[0,0], coord[0,2]], [coord[1,0], coord[1,2]], [coord[2,0], coord[2,2]], c=\"black\")\n",
    "ax.plot([coord[0,0], coord[0,3]], [coord[1,0], coord[1,3]], [coord[2,0], coord[2,3]], c=\"black\")"
   ]
  },
  {
   "cell_type": "code",
   "execution_count": 67,
   "id": "bizarre-production",
   "metadata": {},
   "outputs": [
    {
     "data": {
      "text/plain": [
       "array([[ 1, -5, -7],\n",
       "       [ 5,  5,  1],\n",
       "       [ 9, -1,  5]])"
      ]
     },
     "execution_count": 67,
     "metadata": {},
     "output_type": "execute_result"
    }
   ],
   "source": [
    "vectors = coord[:, 0, None] - coord[:, 1:]  # [OA; OB; OC]\n",
    "vectors = vectors.copy()\n",
    "vectors"
   ]
  },
  {
   "cell_type": "code",
   "execution_count": 68,
   "id": "infinite-desire",
   "metadata": {},
   "outputs": [
    {
     "data": {
      "text/plain": [
       "array([[-5, -7,  1],\n",
       "       [ 5,  1,  5],\n",
       "       [-1,  5,  9]])"
      ]
     },
     "execution_count": 68,
     "metadata": {},
     "output_type": "execute_result"
    }
   ],
   "source": [
    "others = np.roll(vectors, -1, axis=1)  # [OB; OC; OA]\n",
    "others"
   ]
  },
  {
   "cell_type": "code",
   "execution_count": 71,
   "id": "embedded-agent",
   "metadata": {},
   "outputs": [
    {
     "data": {
      "text/plain": [
       "array([[-50,  26, -16],\n",
       "       [-44,  32,  68],\n",
       "       [ 30,  30, -36]])"
      ]
     },
     "execution_count": 71,
     "metadata": {},
     "output_type": "execute_result"
    }
   ],
   "source": [
    "nA = np.cross(vectors, others, axis=0) # normal of [OAB; OBC; OCA]\n",
    "nA"
   ]
  },
  {
   "cell_type": "code",
   "execution_count": 58,
   "id": "present-vaccine",
   "metadata": {},
   "outputs": [
    {
     "data": {
      "text/plain": [
       "array([[-35,  86, -17],\n",
       "       [ 74,  98,  34],\n",
       "       [ 34, -26,  17]])"
      ]
     },
     "execution_count": 58,
     "metadata": {},
     "output_type": "execute_result"
    }
   ],
   "source": [
    "nB = np.roll(nA, 1, axis=1) # normal of OCA, OAB, OBC\n",
    "nB"
   ]
  },
  {
   "cell_type": "code",
   "execution_count": 80,
   "id": "driven-farmer",
   "metadata": {},
   "outputs": [],
   "source": [
    "norms = np.linalg.norm(nA, axis=0)"
   ]
  },
  {
   "cell_type": "code",
   "execution_count": 81,
   "id": "generic-profile",
   "metadata": {},
   "outputs": [],
   "source": [
    "phiAB = np.arccos(np.abs(np.dot(nA[:, 2], nA[:,1]))/ (norms[2] * norms[1]))  # OAC OBC"
   ]
  },
  {
   "cell_type": "code",
   "execution_count": 83,
   "id": "raised-yahoo",
   "metadata": {},
   "outputs": [],
   "source": [
    "phiBC = np.arccos(np.abs(np.dot(nA[:, 0], nA[:,2]))/ (norms[0] * norms[2]))  # OAB OAC"
   ]
  },
  {
   "cell_type": "code",
   "execution_count": 84,
   "id": "latin-lounge",
   "metadata": {},
   "outputs": [],
   "source": [
    "phiAC = np.arccos(np.abs(np.dot(nA[:, 0], nA[:,1]))/ (norms[0] * norms[1]))  # OAB OBC"
   ]
  },
  {
   "cell_type": "code",
   "execution_count": 86,
   "id": "naked-occurrence",
   "metadata": {},
   "outputs": [
    {
     "data": {
      "text/plain": [
       "(1.4002763334109076, 0.9643273930827477, 1.0639705015950622)"
      ]
     },
     "execution_count": 86,
     "metadata": {},
     "output_type": "execute_result"
    }
   ],
   "source": [
    "phiAB, phiBC, phiAC"
   ]
  },
  {
   "cell_type": "code",
   "execution_count": 88,
   "id": "inner-bibliography",
   "metadata": {},
   "outputs": [
    {
     "data": {
      "text/plain": [
       "0.28698157449892436"
      ]
     },
     "execution_count": 88,
     "metadata": {},
     "output_type": "execute_result"
    }
   ],
   "source": [
    "res_f1 = phiAB + phiBC + phiAC - np.pi; res_f1"
   ]
  },
  {
   "cell_type": "code",
   "execution_count": null,
   "id": "norwegian-scheme",
   "metadata": {},
   "outputs": [],
   "source": []
  },
  {
   "cell_type": "code",
   "execution_count": null,
   "id": "continuing-ferry",
   "metadata": {},
   "outputs": [],
   "source": []
  }
 ],
 "metadata": {
  "kernelspec": {
   "display_name": "Python 3",
   "language": "python",
   "name": "python3"
  },
  "language_info": {
   "codemirror_mode": {
    "name": "ipython",
    "version": 3
   },
   "file_extension": ".py",
   "mimetype": "text/x-python",
   "name": "python",
   "nbconvert_exporter": "python",
   "pygments_lexer": "ipython3",
   "version": "3.8.8"
  }
 },
 "nbformat": 4,
 "nbformat_minor": 5
}
